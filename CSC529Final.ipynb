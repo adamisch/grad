{
 "cells": [
  {
   "cell_type": "markdown",
   "metadata": {
    "hidePrompt": false
   },
   "source": [
    "<center><h1>Text Classification of Quizbowl Questions</h1></center>\n",
    "\n",
    "<center><h3>Alex Damisch</center></h3>\n",
    "<center><h3>27 November 2017</center></h3>"
   ]
  },
  {
   "cell_type": "markdown",
   "metadata": {
    "hidePrompt": true
   },
   "source": [
    "# Text Classification of Quizbowl Questions\n",
    "### Alex Damisch\n",
    "### 27 November 2017\n",
    "## I. Introduction\n",
    "\n",
    "&nbsp;&nbsp;&nbsp;&nbsp;&nbsp;&nbsp;Quizbowl (or quiz bowl) is a competitive interscholastic knowledge game played at the middle school, high school, and collegiate levels. Teams of four compete using *Jeopardy!*-style buzzers on questions dealing with mostly academic subjects: primarily history, literature and science, but also religion, mythology, philosophy, the social sciences and fine arts, and occasionally popular culture.<sup>[1]</sup>\n",
    "\n",
    "&nbsp;&nbsp;&nbsp;&nbsp;&nbsp;&nbsp;All quizbowl questions are read out loud by a third-party moderator. There are \n",
    "two types of quizbowl questions: tossups and bonuses. Tossups are multi-sentence, paragraph-length questions that anyone on either team can answer. Each sentence describes the same answer, and the descriptions get increasingly obvious with each successive sentence. Any player can interrupt the moderator by buzzing in. If they are incorrect, they lose 5 points, and the moderator continues reading the tossup—but the team of the person who answered the question incorrectly cannot ring in again. (It is thus advantageous for the team that had not yet answered to wait until the very end of the question, since they are no longer racing to answer the tossup first.) If they answer the question correctly, they gain 10 points, and the moderator will read a three-part bonus question just to the team that answered the tossup question correctly. Each bonus part is worth 10 points on the same subject, which may or may not be on the same subject as the tossup; there is no penalty for answering bonus parts incorrectly. After the bonus is complete,another tossup is read to all players. There are usually 20-24 tossup/bonus “cycles” per game, and a typical quizbowl tournament will have 10-13 games.<sup>[2]</sup>\n",
    "\n",
    "&nbsp;&nbsp;&nbsp;&nbsp;&nbsp;&nbsp;Recycling old quizbowl questions is considered a cardinal sin in the community;<sup>[3]</sup> however, it is generally accepted  that reading old questions is a good way to improve as a quizbowler.<sup>[4]</sup>  As a result, over the years a number of online databases of past questions have been created so players can review old questions.<sup>[5]</sup> Since quizbowl is a team activity, a biology major may specialize in e.g. science questions, and not particularly about reading old literature questions. As such, it is useful for the database to classify old questions and include a search feature so that an individual can only see they questions that they want to. However, it is time-consuming for a human to classify all of these questions. Tournaments will frequently include frequently include 15 rounds of questions, just in case of a tie in the standings, an error in a question or by a moderator that requires a question to be thrown out, etc. The benefit of automatically classifying 600 questions for dozens and dozens of tournaments per year is clear. There are also sub-distributions to consider (for example, science questions can be  classified into biology, chemistry, physics, etc.).\n",
    "\n",
    "&nbsp;&nbsp;&nbsp;&nbsp;&nbsp;&nbsp;This project will attempt to improve on existing methods to classify quizbowl tossups into the proper subject categories."
   ]
  },
  {
   "cell_type": "markdown",
   "metadata": {
    "hideCode": false,
    "hidePrompt": true
   },
   "source": [
    "## II. Data Description\n",
    "\n",
    "&nbsp;&nbsp;&nbsp;&nbsp;&nbsp;&nbsp;QuizDB was publicly announced on September 10, 2017, as the successor to another database called Quinterest. (QuizDB’s hosting fees are currently paid for the Partnership for Academic Competition Excellence<sup>[6]</sup>, of which I am a member.<sup>[7]</sup>) It is maintained by Raynor Kuang, a former quizbowler from Harvard and the Thomas Jefferson High School for Science and Technology. He provided 100,006 questions--initially by email to me, and then publicly on the Quizbowl Resource Center forums<sup>[8]</sup>.\n",
    "\n",
    "&nbsp;&nbsp;&nbsp;&nbsp;&nbsp;&nbsp;Initially, there were three variables in this dataset, as provided by Raynor:\n",
    "\n",
    "|          Texts              |          Categories             |            Subcategories          |\n",
    "|-----------------------------|---------------------------------|-----------------------------------|\n",
    "| The texts of the questions  | The categories of the questions | The subcategories of the questions|\n",
    "\n",
    "&nbsp;&nbsp;&nbsp;&nbsp;&nbsp;&nbsp;The categories' and subcategories' levels and distribution will be discussed further in the Data Cleaning and Data Analysis section.\n",
    "\n",
    "&nbsp;&nbsp;&nbsp;&nbsp;&nbsp;&nbsp;In correspondence, Kuang indicated the accuracy that he had thus far achieved when automatically classifying questions:\n",
    "\n",
    "\n",
    ">*Currently,* all auto-imported questions (using Augur, my parser tech) uses a Naive Bayesian classifier to categorize + subcategorize questions. From there, admins can fix any mistaken assignments. During testing I routinely got 90% and 80% accuracy for category and subcategory, respectively, so I'm moderately confident in the categorization. As you say, it does look like History, Lit[erature], and Myth[ology] are most commonly confused because of their frequent \"character\" typology.<sup>[9]</sup>\n",
    ">\n",
    "\n",
    "&nbsp;&nbsp;&nbsp;&nbsp;&nbsp;&nbsp;It may also be useful to see an example of tossups and bonuses. I wrote the following tossup for the 2017 Eisenhower Memorial Tournament, a collegiate quizbowl set written for undergraduate students, and it appears in the data set:<sup>[10]</sup>\n",
    "\n"
   ]
  },
  {
   "cell_type": "code",
   "execution_count": 1,
   "metadata": {
    "hideCode": true,
    "hidePrompt": true
   },
   "outputs": [
    {
     "data": {
      "text/plain": [
       "'This singer collaborated with the Count Basie Orchestra on the album One O\\'Clock Jump, and with a full orchestra and Louis Armstrong on an album of solo and duet covers from Porgy and Bess. This artist covered the Gershwins again on a song from a 1924 musical that Nelson Riddle arranged for this singer as a ballad; that song is \"Oh, (*) Lady Be Good!\" This singer covered Cole Porter, Duke Ellington, and other artists in 19 \"songbook\" albums. This bebop and jazz singer displayed her signature technique on songs like \"How High the Moon.\" Chick Webb\\'s band accompanied this artist on her first hit, \"A-Tisket, A-Tasket.\" Nicknamed the \"First Lady of Song,\" for 10 points, name this artist known for her scat singing. ANSWER: Ella Jane Fitzgerald '"
      ]
     },
     "execution_count": 1,
     "metadata": {},
     "output_type": "execute_result"
    }
   ],
   "source": [
    "import os\n",
    "os.chdir('/Users/alexdamisch/Desktop')\n",
    "import json\n",
    "with open('quizdb_classifier_training_data.json', encoding='utf-8') as data_file:\n",
    "    data = json.loads(data_file.read())\n",
    "data['texts'][1491]"
   ]
  },
  {
   "cell_type": "markdown",
   "metadata": {},
   "source": [
    "&nbsp;&nbsp;&nbsp;&nbsp;&nbsp;&nbsp;The (\\*) symbol is called a \"power mark\"--in some formats, answering a tossup earlier earns the player 15 points instead of 10. If a player correctly buzzes in before the moderator completes the word \"Lady\" in \"Oh, Lady Be Good!\", they would get 15 points. If one tossup in a tournament is power-marked, they will all be, and players know ahead of time whether the tournament uses power-marked questions.\n",
    "\n",
    "&nbsp;&nbsp;&nbsp;&nbsp;&nbsp;&nbsp;I wrote the following bonus for 2014 ACF Fall, a tournament in which teams submit questions, which are then edited by a central team of experienced writers and editors. (The fact that teams are obviously prevented from playing their own questions is another reason why tournaments will sometimes have 15 rounds of questions ready.) I wrote this bonus on behalf of my team, Lawrence (University) A, and it was edited for use in the tournament. It also appears in the data set:<sup>[11]</sup>"
   ]
  },
  {
   "cell_type": "code",
   "execution_count": 2,
   "metadata": {
    "hideCode": true,
    "hidePrompt": true
   },
   "outputs": [
    {
     "data": {
      "text/plain": [
       "'In this novel, the examining magistrate of a murder case brandishes a crucifix at the protagonist and asks if he believes in God, to which the protagonist replies \"no\". For 10 points each:  Name this novel in which Meursault shoots an Arab five times on a beach.  ANSWER: The Stranger [or L\\'Ã‰tranger]  The Stranger was written by this French novelist of works such as The Plague and The Fall. He received the 1957 Nobel Prize in Literature.  ANSWER: Albert Camus  Six of Camus\\' short stories are collected in this volume, including a story in which an engineer named d\\'Arrast goes to a town in Brazil whose inhabitants celebrate the miracle of a \"growing stone.\" ANSWER: Exile and the Kingdom [or L\\'Exil et le Royaume] '"
      ]
     },
     "execution_count": 2,
     "metadata": {},
     "output_type": "execute_result"
    }
   ],
   "source": [
    "data['texts'][84391]"
   ]
  },
  {
   "cell_type": "markdown",
   "metadata": {
    "hidePrompt": true
   },
   "source": [
    "&nbsp;&nbsp;&nbsp;&nbsp;&nbsp;&nbsp;The first question had category \"Fine Arts\" and subcategory \"Fine Arts Other\" (\"Other\" indicating that it was neither orchestral classical music nor painting--sculpture, opera, and jazz all fall into \"Fine Arts Other\"). The second question had category \"Literature\" and subcategory \"Literature European.\" Both questions were classified correctly. "
   ]
  },
  {
   "cell_type": "markdown",
   "metadata": {
    "hidePrompt": true
   },
   "source": [
    "## III. Data Cleaning and Analysis\n",
    "\n",
    "&nbsp;&nbsp;&nbsp;&nbsp;&nbsp;&nbsp;I have combined data cleaning and analysis here, because my preliminary analysis of my data determined how I cleaned it.\n",
    "\n",
    "&nbsp;&nbsp;&nbsp;&nbsp;&nbsp;&nbsp;The primary aspect that surprised when I received the data was that tossups were not classified differently than bonuses, and that there was no easy way to tell how many tossups and how many bonuses there were in the data set. In terms of the content of a question, it *shouldn't* matter if the question is a tossup or a bonus--the beginning of a tossup might use similar clues as the hard part of a bonus on the same subject--but it made me wary to not have any idea of what was in my data set. So I added a key called \"type\" to my data dictionary. I decided the \"type\" of a question by temporarily converting it to all lowercase letters, and then counting how many times the string \"answer:\" occurred in the question. If \"answer:\" occurred once, I classified it as a tossup; three times, a bonus; and if it was anything else I classified it as \"Other.\"\n",
    "\n",
    "&nbsp;&nbsp;&nbsp;&nbsp;&nbsp;&nbsp;There may have been legitimate reasons why a question might contain the string \"answer\" 0, 2, or >3 times. (For example, in the lead-in to the bonus on Camus, above, it might have awkwardly been worded \"...which made the protagonist answer: 'no.'\" instead of \"to which the protagonist replies 'no'.\") However, I wanted to head off any anomalous questions as soon as possible, and this turned out to not be a problem for very many questions--only 194 of the 100,006 questions were categorized as \"Other.\" I quickly discarded those questions."
   ]
  },
  {
   "cell_type": "code",
   "execution_count": 3,
   "metadata": {
    "hideCode": true,
    "hideOutput": true,
    "hidePrompt": true
   },
   "outputs": [
    {
     "name": "stdout",
     "output_type": "stream",
     "text": [
      "dict_items([('Tossup', 81152), ('Other', 194), ('Bonus', 18660)])\n"
     ]
    }
   ],
   "source": [
    "data['type']=[]\n",
    "for item in data['texts']:\n",
    "    if item.lower().count('answer:')==3:\n",
    "        data['type'].append('Bonus')\n",
    "    elif item.lower().count('answer:')==1:\n",
    "        data['type'].append('Tossup')\n",
    "    else:\n",
    "        data['type'].append('Other')\n",
    "\n",
    "from collections import Counter\n",
    "\n",
    "c=Counter(data['type'])\n",
    "print(c.items())"
   ]
  },
  {
   "cell_type": "code",
   "execution_count": 4,
   "metadata": {
    "hideCode": true,
    "hideOutput": true,
    "hidePrompt": true
   },
   "outputs": [],
   "source": [
    "others = [i for i, s in enumerate(data['type']) if 'Other' in s]\n",
    "\n",
    "for index in sorted(others, reverse=True):\n",
    "    del data['texts'][index]\n",
    "    del data['categories'][index]\n",
    "    del data['subcategories'][index]\n",
    "    del data['type'][index]"
   ]
  },
  {
   "cell_type": "markdown",
   "metadata": {
    "hidePrompt": true
   },
   "source": [
    "&nbsp;&nbsp;&nbsp;&nbsp;&nbsp;&nbsp;Next I looked at the existing categories. The following categories were present in the data set:"
   ]
  },
  {
   "cell_type": "code",
   "execution_count": 5,
   "metadata": {
    "hideCode": true,
    "hideOutput": true,
    "hidePrompt": true
   },
   "outputs": [
    {
     "name": "stdout",
     "output_type": "stream",
     "text": [
      "dict_items([('Science', 18933), ('Geography', 3138), ('Fine Arts', 13269), ('Literature', 22332), ('History', 21631), ('None', 25), ('Social Science', 4188), ('Religion', 3629), ('Mythology', 4929), ('Current Events', 917), ('Philosophy', 3645), ('Trash', 3176)])\n"
     ]
    }
   ],
   "source": [
    "from collections import Counter\n",
    "\n",
    "c=Counter(data['categories'])\n",
    "print(c.items())"
   ]
  },
  {
   "cell_type": "markdown",
   "metadata": {
    "hidePrompt": true
   },
   "source": [
    "&nbsp;&nbsp;&nbsp;&nbsp;&nbsp;&nbsp; \"Trash\" refers to popular culture questions, and does not carry (or no longer carries) any overtly negative connotations.<sup>[13]</sup> I decided to also delete the 76 questions that had category value \"None.\""
   ]
  },
  {
   "cell_type": "code",
   "execution_count": 6,
   "metadata": {
    "hideCode": true,
    "hideOutput": true,
    "hidePrompt": true
   },
   "outputs": [
    {
     "name": "stdout",
     "output_type": "stream",
     "text": [
      "dict_items([('Science', 18933), ('Geography', 3138), ('Fine Arts', 13269), ('Literature', 22332), ('History', 21631), ('Social Science', 4188), ('Religion', 3629), ('Mythology', 4929), ('Current Events', 917), ('Philosophy', 3645), ('Trash', 3176)])\n"
     ]
    }
   ],
   "source": [
    "nones = [i for i, s in enumerate(data['categories']) if 'None' in s]\n",
    "\n",
    "for index in sorted(nones, reverse=True):\n",
    "    del data['texts'][index]\n",
    "    del data['categories'][index]\n",
    "    del data['subcategories'][index]\n",
    "    del data['type'][index]\n",
    "    \n",
    "c=Counter(data['categories'])\n",
    "print(c.items())"
   ]
  },
  {
   "cell_type": "markdown",
   "metadata": {
    "hidePrompt": true
   },
   "source": [
    "&nbsp;&nbsp;&nbsp;&nbsp;&nbsp;&nbsp; Finally, it was time to look at the subcategories. As briefly mentioned in the introduction, each category has its own subcategories: Generally, the sciences and social sciences are divided by their respective fields, fine arts into their media, and the other categories into their relevant parts of the world."
   ]
  },
  {
   "cell_type": "code",
   "execution_count": 7,
   "metadata": {
    "hideCode": true
   },
   "outputs": [
    {
     "name": "stdout",
     "output_type": "stream",
     "text": [
      "dict_items([('Science Physics', 3055), ('Science Biology', 3447), ('None', 46508), ('Fine Arts Audiovisual', 1318), ('Fine Arts Visual', 3541), ('Literature European', 3679), ('History American', 4473), ('Literature British', 3516), ('Fine Arts Auditory', 3127), ('Science Computer Science', 583), ('Science Chemistry', 2802), ('History World', 3878), ('History British', 1271), ('History European', 3984), ('Science Math', 1544), ('Literature American', 4573), ('Literature Classical', 555), ('Science Other', 1866), ('Literature World', 2341), ('Fine Arts Other', 1380), ('History Other', 444), ('History Classical', 1223), ('Literature Other', 490), ('Philosophy American', 8), ('Fine Arts European', 1), ('Social Science Economics', 4), ('Mythology Indian', 3), ('Religion American', 8), ('Mythology Japanese', 3), ('Mythology Greco-Roman', 10), ('Geography World', 8), ('Trash American', 10), ('Religion East Asian', 4), ('Social Science American', 6), ('Fine Arts World', 2), ('Mythology American', 15), ('Current Events American', 8), ('Geography American', 5), ('Fine Arts American', 3), ('Fine Arts British', 1), ('Science American', 4), ('Philosophy European', 10), ('Mythology Other', 6), ('Social Science Linguistics', 1), ('Social Science Psychology', 5), ('Religion Christianity', 7), ('Mythology Egyptian', 2), ('Religion Other', 7), ('Social Science Sociology', 2), ('Philosophy Other', 2), ('Social Science Political Science', 3), ('Religion Islam', 4), ('Mythology Norse', 2), ('Social Science Other', 8), ('Religion Judaism', 2), ('Mythology Chinese', 1), ('Current Events Other', 5), ('Social Science Anthropology', 1), ('Trash Movies', 2), ('Philosophy Classical', 1), ('Trash Sports', 3), ('Trash Television', 2), ('Trash Other', 4), ('Philosophy East Asian', 2), ('Trash Video Games', 1), ('Trash Music', 1), ('Science World', 2)])\n"
     ]
    }
   ],
   "source": [
    "c=Counter(data['subcategories'])\n",
    "print(c.items())"
   ]
  },
  {
   "cell_type": "markdown",
   "metadata": {
    "hideCode": false
   },
   "source": [
    "&nbsp;&nbsp;&nbsp;&nbsp;&nbsp;&nbsp; It is striking that nearly half (46,508 of 100,006) of the questions do not have a subcategory. As such, if we wanted to test how well we could sub-categorize the data, it would be on a significantly reduced data set. However, I thought that 46,508 questions was far too many to delete from the data set. However, I did think some exploratory data analysis would help understand where those gaps were.\n",
    "\n",
    "&nbsp;&nbsp;&nbsp;&nbsp;&nbsp;&nbsp; In the introduction I mentioned that a typical round will have 20-24 tossup/bonus \"cycles\"; unless a question is not correctly answered by either team, they should hear the same amount of tossups and bonuses in each round. Based on that information, the graph below might be somewhat surprising. Nearly all quizbowl tournaments have tossups and bonuses, but there are some tournaments--particularly \"side events\" (often one-off, single-subject tournaments written \"for fun\" as opposed to an annual, flagship tournament)--that use only tossups.<sup>[14]</sup> In addition, I suspect that tossups are significantly easier for QuizDB to parse."
   ]
  },
  {
   "cell_type": "code",
   "execution_count": 8,
   "metadata": {
    "hideCode": true,
    "hidePrompt": true
   },
   "outputs": [
    {
     "data": {
      "image/png": "[encoded data removed]",
      "text/plain": [
       "<matplotlib.figure.Figure at 0x11c45bcf8>"
      ]
     },
     "metadata": {},
     "output_type": "display_data"
    }
   ],
   "source": [
    "%matplotlib inline\n",
    "import matplotlib.pyplot as plt\n",
    "import numpy as np\n",
    "c=Counter(data['type'])\n",
    "labels, values = zip(*c.items())\n",
    "indexes = np.arange(len(labels))\n",
    "width = 1\n",
    "\n",
    "plt.bar(indexes, values, align='center', alpha=0.5)\n",
    "plt.xticks(indexes, labels)\n",
    "plt.xticks(rotation=70)\n",
    "plt.ylabel('Count')\n",
    "plt.title('Type of Question')\n",
    " \n",
    "plt.show()"
   ]
  },
  {
   "cell_type": "markdown",
   "metadata": {
    "hidePrompt": true
   },
   "source": [
    "&nbsp;&nbsp;&nbsp;&nbsp;&nbsp;&nbsp; Based on the most common formats (see <sup>[1]</sup>), I would expect literature, history, and science to each represent about a quarter of the questions. It is curious that science is a little underrepresented here--it is possible that instead, as noted in the data description, there have been some classification mix-ups in between history, literature, and mythology. However, it seems appropriate that the fine arts seems to equal roughly the sum of history, literature, and mythology."
   ]
  },
  {
   "cell_type": "code",
   "execution_count": 9,
   "metadata": {
    "hideCode": true,
    "hidePrompt": true
   },
   "outputs": [
    {
     "data": {
      "image/png": "[encoded data removed]",
      "text/plain": [
       "<matplotlib.figure.Figure at 0x10fd8d550>"
      ]
     },
     "metadata": {},
     "output_type": "display_data"
    }
   ],
   "source": [
    "c=Counter(data['categories'])\n",
    "labels, values = zip(*c.items())\n",
    "indexes = np.arange(len(labels))\n",
    "width = 1\n",
    "\n",
    "plt.bar(indexes, values, align='center', alpha=0.5)\n",
    "plt.xticks(indexes, labels)\n",
    "plt.xticks(rotation=70)\n",
    "plt.ylabel('Count')\n",
    "plt.title('Categories of Questions')\n",
    " \n",
    "plt.show()"
   ]
  },
  {
   "cell_type": "markdown",
   "metadata": {
    "hidePrompt": true
   },
   "source": [
    "&nbsp;&nbsp;&nbsp;&nbsp;&nbsp;&nbsp; There were far too many subcategories to look at on a graph that was still readable; instead, I broke down each category to view the distribution of its subcategories.\n",
    "\n",
    "&nbsp;&nbsp;&nbsp;&nbsp;&nbsp;&nbsp; The plurality of science questions lack a subcategories specification, but we still have substantial amounts of categorized questions, particularly in the core science subjects of biology, chemistry, and physics. The peculiar geographic subcategories have very few questions."
   ]
  },
  {
   "cell_type": "code",
   "execution_count": 10,
   "metadata": {
    "hideCode": true,
    "hideOutput": false,
    "hidePrompt": true
   },
   "outputs": [
    {
     "data": {
      "text/plain": [
       "Text(0.5,1,'Science Subcategories')"
      ]
     },
     "execution_count": 10,
     "metadata": {},
     "output_type": "execute_result"
    },
    {
     "data": {
      "image/png": "[encoded data removed]",
      "text/plain": [
       "<matplotlib.figure.Figure at 0x1263a2518>"
      ]
     },
     "metadata": {},
     "output_type": "display_data"
    }
   ],
   "source": [
    "import pandas as pd\n",
    "\n",
    "mydf = pd.DataFrame({'Text': data['texts'],'Category': data['categories'], 'Subcategory': data['subcategories']})\n",
    "\n",
    "science = mydf[mydf['Category'] == 'Science']\n",
    "science_count = science.groupby('Subcategory').size()\n",
    "science_count = science_count.rename(lambda x: x.replace(\"Science\",\"\"))\n",
    "\n",
    "science_count.plot.bar(rot=30).set_title('Science Subcategories')"
   ]
  },
  {
   "cell_type": "markdown",
   "metadata": {
    "hidePrompt": true
   },
   "source": [
    "&nbsp;&nbsp;&nbsp;&nbsp;&nbsp;&nbsp; Essentially none of the geography questions were classified with a subcategory."
   ]
  },
  {
   "cell_type": "code",
   "execution_count": 11,
   "metadata": {
    "hideCode": true,
    "hidePrompt": true
   },
   "outputs": [
    {
     "data": {
      "text/plain": [
       "Text(0.5,1,'Geography Subcategories')"
      ]
     },
     "execution_count": 11,
     "metadata": {},
     "output_type": "execute_result"
    },
    {
     "data": {
      "image/png": "[encoded data removed]",
      "text/plain": [
       "<matplotlib.figure.Figure at 0x11506e7f0>"
      ]
     },
     "metadata": {},
     "output_type": "display_data"
    }
   ],
   "source": [
    "geo = mydf[mydf['Category'] == 'Geography']\n",
    "geo_count = geo.groupby('Subcategory').size()\n",
    "geo_count = geo_count.rename(lambda x: x.replace(\"Geography\",\"\"))\n",
    "\n",
    "geo_count.plot.bar(rot=30).set_title('Geography Subcategories')"
   ]
  },
  {
   "cell_type": "markdown",
   "metadata": {
    "hidePrompt": true
   },
   "source": [
    "&nbsp;&nbsp;&nbsp;&nbsp;&nbsp;&nbsp; Fine Arts questions had a very slight plurality of questions as unclassified, but a very robust number of questions that were classified as visual or auditory arts."
   ]
  },
  {
   "cell_type": "code",
   "execution_count": 12,
   "metadata": {
    "hideCode": true,
    "hidePrompt": true
   },
   "outputs": [
    {
     "data": {
      "text/plain": [
       "Text(0.5,1,'Fine Arts Subcategories')"
      ]
     },
     "execution_count": 12,
     "metadata": {},
     "output_type": "execute_result"
    },
    {
     "data": {
      "image/png": "[encoded data removed]",
      "text/plain": [
       "<matplotlib.figure.Figure at 0x126bc2ac8>"
      ]
     },
     "metadata": {},
     "output_type": "display_data"
    }
   ],
   "source": [
    "fa = mydf[mydf['Category'] == 'Fine Arts']\n",
    "fa_count = fa.groupby('Subcategory').size()\n",
    "fa_count = fa_count.rename(lambda x: x.replace(\"Fine Arts\",\"\"))\n",
    "\n",
    "fa_count.plot.bar(rot=30).set_title('Fine Arts Subcategories')"
   ]
  },
  {
   "cell_type": "markdown",
   "metadata": {
    "hidePrompt": true
   },
   "source": [
    "&nbsp;&nbsp;&nbsp;&nbsp;&nbsp;&nbsp; Again, the most common subcategory for literature questions was \"None,\" but other subcategories were well-represented, and generally more evenly than in other categories. One thing to note is that this is the first category so far where the geographic subcategories have any sort of substantive numbers--this matches up well with the most common distribution, which requires a certain proportion of literature questions to be \"American,\" \"European,\" \"World,\" etc. The science distribution, for example, makes no such requirements.<sup>[1]</sup>"
   ]
  },
  {
   "cell_type": "code",
   "execution_count": 13,
   "metadata": {
    "hideCode": true,
    "hidePrompt": true
   },
   "outputs": [
    {
     "data": {
      "text/plain": [
       "Text(0.5,1,'Literature Subcategories')"
      ]
     },
     "execution_count": 13,
     "metadata": {},
     "output_type": "execute_result"
    },
    {
     "data": {
      "image/png": "[encoded data removed]",
      "text/plain": [
       "<matplotlib.figure.Figure at 0x126cf3cf8>"
      ]
     },
     "metadata": {},
     "output_type": "display_data"
    }
   ],
   "source": [
    "lit = mydf[mydf['Category'] == 'Literature']\n",
    "lit_count = lit.groupby('Subcategory').size()\n",
    "lit_count = lit_count.rename(lambda x: x.replace(\"Literature\",\"\"))\n",
    "\n",
    "lit_count.plot.bar(rot=30).set_title('Literature Subcategories')"
   ]
  },
  {
   "cell_type": "markdown",
   "metadata": {
    "hidePrompt": true
   },
   "source": [
    "&nbsp;&nbsp;&nbsp;&nbsp;&nbsp;&nbsp; The history subcategories graph looks so much like the literature subcategories graph that one may momentarily think I forgot to change a variable name (note the decrease in British content and increase in \"world\" content to see that this is not the case). However, it is simply the case that a majority of quizbowlers are American and standard distributions of questions prioritize American content.<sup>[1]</sup>"
   ]
  },
  {
   "cell_type": "code",
   "execution_count": 14,
   "metadata": {
    "hideCode": true,
    "hidePrompt": true
   },
   "outputs": [
    {
     "data": {
      "text/plain": [
       "Text(0.5,1,'History Subcategories')"
      ]
     },
     "execution_count": 14,
     "metadata": {},
     "output_type": "execute_result"
    },
    {
     "data": {
      "image/png": "[encoded data removed]",
      "text/plain": [
       "<matplotlib.figure.Figure at 0x126d347b8>"
      ]
     },
     "metadata": {},
     "output_type": "display_data"
    }
   ],
   "source": [
    "hist = mydf[mydf['Category'] == 'History']\n",
    "hist_count = hist.groupby('Subcategory').size()\n",
    "hist_count = hist_count.rename(lambda x: x.replace(\"History\",\"\"))\n",
    "\n",
    "hist_count.plot.bar(rot=30).set_title('History Subcategories')"
   ]
  },
  {
   "cell_type": "markdown",
   "metadata": {
    "hidePrompt": true
   },
   "source": [
    "&nbsp;&nbsp;&nbsp;&nbsp;&nbsp;&nbsp; Virtually none of the social science, religion, mythology, or philosophy subcategories have been classified. Unlike in the science subcategory distribution, where it is not standard to have an \"American\" or \"world\" requirement, it *is* generally required that a round of questions will not have its questions from these categories be on the same subjects (with the possible exception of philosophy, which does not have a well-defined geographic sub-distribution). That is, if there is a tossup on Christianity, the religions bonus should be on a different religion. <sup>[1]</sup> Further classification of these subcategories may be a good topic for further developing QuizDB."
   ]
  },
  {
   "cell_type": "code",
   "execution_count": 15,
   "metadata": {
    "hideCode": true,
    "hidePrompt": true
   },
   "outputs": [
    {
     "data": {
      "text/plain": [
       "Text(0.5,1,'Social Science Subcategories')"
      ]
     },
     "execution_count": 15,
     "metadata": {},
     "output_type": "execute_result"
    },
    {
     "data": {
      "image/png": "[encoded data removed]",
      "text/plain": [
       "<matplotlib.figure.Figure at 0x126d6f240>"
      ]
     },
     "metadata": {},
     "output_type": "display_data"
    }
   ],
   "source": [
    "ss = mydf[mydf['Category'] == 'Social Science']\n",
    "ss_count = ss.groupby('Subcategory').size()\n",
    "ss_count = ss_count.rename(lambda x: x.replace(\"Social Science\",\"\"))\n",
    "\n",
    "ss_count.plot.bar(rot=70).set_title('Social Science Subcategories')"
   ]
  },
  {
   "cell_type": "code",
   "execution_count": 16,
   "metadata": {
    "hideCode": true,
    "hidePrompt": true
   },
   "outputs": [
    {
     "data": {
      "text/plain": [
       "Text(0.5,1,'Religion Subcategories')"
      ]
     },
     "execution_count": 16,
     "metadata": {},
     "output_type": "execute_result"
    },
    {
     "data": {
      "image/png": "[encoded data removed]",
      "text/plain": [
       "<matplotlib.figure.Figure at 0x126fa1048>"
      ]
     },
     "metadata": {},
     "output_type": "display_data"
    }
   ],
   "source": [
    "rel = mydf[mydf['Category'] == 'Religion']\n",
    "rel_count = rel.groupby('Subcategory').size()\n",
    "rel_count = rel_count.rename(lambda x: x.replace(\"Religion\",\"\"))\n",
    "\n",
    "rel_count.plot.bar(rot=70).set_title('Religion Subcategories')"
   ]
  },
  {
   "cell_type": "code",
   "execution_count": 17,
   "metadata": {
    "hideCode": true,
    "hidePrompt": true
   },
   "outputs": [
    {
     "data": {
      "text/plain": [
       "Text(0.5,1,'Mythology Subcategories')"
      ]
     },
     "execution_count": 17,
     "metadata": {},
     "output_type": "execute_result"
    },
    {
     "data": {
      "image/png": "[encoded data removed]",
      "text/plain": [
       "<matplotlib.figure.Figure at 0x1270c0b70>"
      ]
     },
     "metadata": {},
     "output_type": "display_data"
    }
   ],
   "source": [
    "myth = mydf[mydf['Category'] == 'Mythology']\n",
    "myth_count = myth.groupby('Subcategory').size()\n",
    "myth_count = rel_count.rename(lambda x: x.replace(\"Mythology\",\"\"))\n",
    "\n",
    "myth_count.plot.bar(rot=70).set_title('Mythology Subcategories')"
   ]
  },
  {
   "cell_type": "code",
   "execution_count": 18,
   "metadata": {
    "hideCode": true,
    "hidePrompt": true
   },
   "outputs": [
    {
     "data": {
      "text/plain": [
       "Text(0.5,1,'Philosophy Subcategories')"
      ]
     },
     "execution_count": 18,
     "metadata": {},
     "output_type": "execute_result"
    },
    {
     "data": {
      "image/png": "[encoded data removed]",
      "text/plain": [
       "<matplotlib.figure.Figure at 0x1271f22e8>"
      ]
     },
     "metadata": {},
     "output_type": "display_data"
    }
   ],
   "source": [
    "phil = mydf[mydf['Category'] == 'Philosophy']\n",
    "phil_count = phil.groupby('Subcategory').size()\n",
    "phil_count = phil_count.rename(lambda x: x.replace(\"Philosophy\",\"\"))\n",
    "\n",
    "phil_count.plot.bar(rot=70).set_title('Philosophy Subcategories')"
   ]
  },
  {
   "cell_type": "markdown",
   "metadata": {
    "hidePrompt": true
   },
   "source": [
    "&nbsp;&nbsp;&nbsp;&nbsp;&nbsp;&nbsp; The final two categories, current events and trash, also lack substantial sub-categorization."
   ]
  },
  {
   "cell_type": "code",
   "execution_count": 19,
   "metadata": {
    "hideCode": true,
    "hidePrompt": true
   },
   "outputs": [
    {
     "data": {
      "text/plain": [
       "Text(0.5,1,'Current Events Subcategories')"
      ]
     },
     "execution_count": 19,
     "metadata": {},
     "output_type": "execute_result"
    },
    {
     "data": {
      "image/png": "[encoded data removed]",
      "text/plain": [
       "<matplotlib.figure.Figure at 0x127396ba8>"
      ]
     },
     "metadata": {},
     "output_type": "display_data"
    }
   ],
   "source": [
    "ce = mydf[mydf['Category'] == 'Current Events']\n",
    "ce_count = ce.groupby('Subcategory').size()\n",
    "ce_count = ce_count.rename(lambda x: x.replace(\"Current Events\",\"\"))\n",
    "\n",
    "ce_count.plot.bar(rot=70).set_title('Current Events Subcategories')"
   ]
  },
  {
   "cell_type": "code",
   "execution_count": 20,
   "metadata": {
    "hideCode": true,
    "hidePrompt": true
   },
   "outputs": [
    {
     "data": {
      "text/plain": [
       "Text(0.5,1,'Trash Subcategories')"
      ]
     },
     "execution_count": 20,
     "metadata": {},
     "output_type": "execute_result"
    },
    {
     "data": {
      "image/png": "[encoded data removed]",
      "text/plain": [
       "<matplotlib.figure.Figure at 0x127302ef0>"
      ]
     },
     "metadata": {},
     "output_type": "display_data"
    }
   ],
   "source": [
    "tr = mydf[mydf['Category'] == 'Trash']\n",
    "tr_count = tr.groupby('Subcategory').size()\n",
    "tr_count = tr_count.rename(lambda x: x.replace(\"Trash\",\"\"))\n",
    "\n",
    "tr_count.plot.bar(rot=70).set_title('Trash Subcategories')"
   ]
  },
  {
   "cell_type": "markdown",
   "metadata": {
    "hidePrompt": true
   },
   "source": [
    "&nbsp;&nbsp;&nbsp;&nbsp;&nbsp;&nbsp; For a project that focused heavily on sub-categorization, one might think about removing those subcategories that had very few questions assigned to them. However, when I was working on classifying the larger categories, I did not particularly care if the subcategory for the question was \"None\" or not."
   ]
  },
  {
   "cell_type": "code",
   "execution_count": 21,
   "metadata": {
    "hideCode": true,
    "hideOutput": true,
    "hidePrompt": true
   },
   "outputs": [],
   "source": [
    "c=Counter(data['subcategories'])\n",
    "labels,values = zip(*c.items())\n",
    "\n",
    "mylabs = list(labels[0:23]) #labels with most elements\n",
    "mylabs.pop(2) #remove 'none' label\n",
    "\n",
    "with open('quizdb_classifier_training_data.json', encoding='utf-8') as data_file:\n",
    "    subcats = json.loads(data_file.read())\n",
    "    \n",
    "subcats['type']=[]\n",
    "for item in subcats['texts']:\n",
    "    if item.lower().count('answer:')==3:\n",
    "        subcats['type'].append('Bonus')\n",
    "    elif item.lower().count('answer:')==1:\n",
    "        subcats['type'].append('Tossup')\n",
    "    else:\n",
    "        subcats['type'].append('Other')\n",
    "        \n",
    "others = [i for i, s in enumerate(data['type']) if 'Other' in s]\n",
    "\n",
    "for index in sorted(others, reverse=True):\n",
    "    del data['texts'][index]\n",
    "    del data['categories'][index]\n",
    "    del data['subcategories'][index]\n",
    "    del data['type'][index]\n",
    "        \n",
    "subs = [i for i, s in enumerate(subcats['subcategories']) if s not in mylabs]\n",
    "\n",
    "for index in sorted(subs, reverse=True):\n",
    "        del subcats['texts'][index]\n",
    "        del subcats['categories'][index]\n",
    "        del subcats['subcategories'][index]\n",
    "        del subcats['type'][index]\n"
   ]
  },
  {
   "cell_type": "markdown",
   "metadata": {
    "hidePrompt": true
   },
   "source": [
    "## IV. Experimental Analysis"
   ]
  },
  {
   "cell_type": "markdown",
   "metadata": {
    "hidePrompt": true
   },
   "source": [
    "&nbsp;&nbsp;&nbsp;&nbsp;&nbsp;&nbsp; I used scikit-learn to create training and test data sets. I used a 80/20 training/test split. I then used scikit-learn's CountVectorizer function (from the feature_extraction module) to create counts for the tfxidf matrix. I set the maximum proportion of documents to 0.5, because I didn't want certain phrases (like \"for 10 points\") to mess up my models. I also allowed ngrams of 1-2 words. I then used scikit-learn's TfidfTransformer function to transform the counts of the testing and training data, respectively."
   ]
  },
  {
   "cell_type": "code",
   "execution_count": 22,
   "metadata": {
    "hideCode": true,
    "hideOutput": true,
    "hidePrompt": true
   },
   "outputs": [
    {
     "name": "stderr",
     "output_type": "stream",
     "text": [
      "/Users/alexdamisch/anaconda3/lib/python3.6/site-packages/sklearn/model_selection/_split.py:2026: FutureWarning: From version 0.21, test_size will always complement train_size unless both are specified.\n",
      "  FutureWarning)\n"
     ]
    }
   ],
   "source": [
    "from sklearn.model_selection import train_test_split\n",
    "\n",
    "train, test, trainclass, testclass = train_test_split(data[\"texts\"], data[\"categories\"], train_size=0.8)\n",
    "    \n",
    "from sklearn.feature_extraction.text import CountVectorizer\n",
    "\n",
    "    # count vectorizer\n",
    "bigram_vectorizer = CountVectorizer(ngram_range=(1, 2),min_df=1,max_df=0.5)\n",
    "\n",
    "traincounts = bigram_vectorizer.fit_transform(train)\n",
    "\n",
    "from sklearn.feature_extraction.text import TfidfTransformer\n",
    "\n",
    "    # training tfidf\n",
    "tfidf_transformer = TfidfTransformer()\n",
    "traintfidf = tfidf_transformer.fit_transform(traincounts)\n",
    "\n",
    "    # testing tfidf\n",
    "testcounts = bigram_vectorizer.transform(test)\n",
    "tfidf_transformer = TfidfTransformer()\n",
    "testtfidf= tfidf_transformer.fit_transform(testcounts)"
   ]
  },
  {
   "cell_type": "code",
   "execution_count": 23,
   "metadata": {
    "hideCode": true,
    "hideOutput": true,
    "hidePrompt": true
   },
   "outputs": [
    {
     "name": "stdout",
     "output_type": "stream",
     "text": [
      "[mean: 0.89945, std: 0.00044, params: {'alpha': 1e-10}, mean: 0.90215, std: 0.00090, params: {'alpha': 1e-09}, mean: 0.90620, std: 0.00048, params: {'alpha': 1e-08}, mean: 0.91063, std: 0.00098, params: {'alpha': 1e-07}, mean: 0.91471, std: 0.00111, params: {'alpha': 1e-06}, mean: 0.91820, std: 0.00146, params: {'alpha': 1e-05}, mean: 0.91704, std: 0.00204, params: {'alpha': 0.0001}, mean: 0.90768, std: 0.00166, params: {'alpha': 0.001}, mean: 0.91716, std: 0.00117, params: {'alpha': 0.01}, mean: 0.83544, std: 0.00042, params: {'alpha': 0.1}]\n",
      "                precision    recall  f1-score   support\n",
      "\n",
      "Current Events       0.87      0.23      0.36       176\n",
      "     Fine Arts       0.95      0.93      0.94      2712\n",
      "     Geography       0.90      0.77      0.83       609\n",
      "       History       0.88      0.95      0.91      4359\n",
      "    Literature       0.90      0.95      0.93      4437\n",
      "     Mythology       0.93      0.93      0.93       951\n",
      "    Philosophy       0.82      0.82      0.82       717\n",
      "      Religion       0.90      0.81      0.85       752\n",
      "       Science       0.97      0.98      0.98      3734\n",
      "Social Science       0.85      0.80      0.82       850\n",
      "         Trash       0.90      0.52      0.66       661\n",
      "\n",
      "   avg / total       0.91      0.91      0.91     19958\n",
      "\n"
     ]
    },
    {
     "name": "stderr",
     "output_type": "stream",
     "text": [
      "/Users/alexdamisch/anaconda3/lib/python3.6/site-packages/sklearn/model_selection/_search.py:761: DeprecationWarning: The grid_scores_ attribute was deprecated in version 0.18 in favor of the more elaborate cv_results_ attribute. The grid_scores_ attribute will not be available from 0.20\n",
      "  DeprecationWarning)\n"
     ]
    }
   ],
   "source": [
    "####### multinomial naive bayes #######\n",
    "\n",
    "#make classifier\n",
    "from sklearn.naive_bayes import MultinomialNB\n",
    "\n",
    "# fit classifier to training data\n",
    "from sklearn.model_selection import GridSearchCV\n",
    "multinom_parameters = {'alpha': [1.0e-10, 1.0e-9, 1.0e-8, 1.0e-7, 1.0e-6, \n",
    "                        1.0e-5, 1.0e-4, 1.0e-3, 1.0e-2,0.1]}\n",
    "multinom=MultinomialNB()\n",
    "multinom_clf=GridSearchCV(multinom, multinom_parameters)\n",
    "multinom_clf.fit(traintfidf,trainclass)\n",
    "\n",
    "#fit to test data\n",
    "multinom_predicted = multinom_clf.predict(testtfidf)\n",
    "\n",
    "np.mean(multinom_predicted ==  testclass) \n",
    "\n",
    "print(multinom_clf.grid_scores_)\n",
    "\n",
    "from sklearn import metrics\n",
    "print(metrics.classification_report(testclass, multinom_predicted))\n"
   ]
  },
  {
   "cell_type": "markdown",
   "metadata": {
    "hideCode": true,
    "hidePrompt": true
   },
   "source": [
    "#### Multinomial Naive Bayes\n",
    "\n",
    "&nbsp;&nbsp;&nbsp;&nbsp;&nbsp;&nbsp; Multinomial Naive Bayes was the first method that I tried, since Raynor Kuang, who maintains QuizDB and provided me with the test data, said he was already using Naive Bayes to classify questions. I used scikit-learn's grid search function to test out different values of alpha, which is the Laplace/Lidstone smoothing parameter. The default is 1, although its accuracy peaked for values of alpha around 0.00001.\n",
    "\n",
    "|          Alpha              |             Mean                |       Standard Deviation          |\n",
    "|-----------------------------|---------------------------------|-----------------------------------|\n",
    "|            1e-10            |            0.89851              |            0.00125                |\n",
    "|            1e-09            |            0.90148              |            0.00155                |\n",
    "|            1e-08            |            0.90495              |            0.00139                |\n",
    "|            1e-07            |            0.90897              |            0.00084                |\n",
    "|            1e-06            |            0.91345              |            0.00035                |\n",
    "|            1e-05            |            0.91699              |            0.00034                |\n",
    "|            0.0001           |            0.91606              |            0.00047                |\n",
    "|            0.001            |            0.90591              |            0.00092                |\n",
    "|            0.01             |            0.91650              |            0.00071                |\n",
    "|            0.1              |            0.83411              |            0.00184                |"
   ]
  },
  {
   "cell_type": "code",
   "execution_count": 24,
   "metadata": {
    "hideCode": true,
    "hidePrompt": true
   },
   "outputs": [
    {
     "data": {
      "image/png": "[encoded data removed]",
      "text/plain": [
       "<matplotlib.figure.Figure at 0x1a2a35a780>"
      ]
     },
     "metadata": {},
     "output_type": "display_data"
    }
   ],
   "source": [
    "alpha=[1e-10,1e-09,1e-08,1e-07,1e-06,1e-05,1e-04,1e-03,1e-02,1e-01]\n",
    "mean=[0.89851,0.90148,0.90495,0.90897,0.91345,0.91699,0.91606,0.90591,0.91650,0.83411]\n",
    "plt.plot(np.log10(alpha),mean,'ro')\n",
    "plt.xlabel('Log base 10 of alpha')\n",
    "plt.ylabel('Accuracy')\n",
    "plt.show()"
   ]
  },
  {
   "cell_type": "markdown",
   "metadata": {
    "hidePrompt": true
   },
   "source": [
    "&nbsp;&nbsp;&nbsp;&nbsp;&nbsp;&nbsp; The model with alpha=0.00001 performed the best on science questions, although it also performed quite well on mythology questions--somewhat going against my expectations, for reasons cited in the Data Description. Note how miserably it performed on recall for current events--the model was bad at finding all of the current events examples. However, the recall was excellent for the largest categories of history, literature, science, and fine arts."
   ]
  },
  {
   "cell_type": "code",
   "execution_count": 25,
   "metadata": {
    "hideCode": true,
    "hideOutput": false,
    "hidePrompt": true
   },
   "outputs": [
    {
     "name": "stdout",
     "output_type": "stream",
     "text": [
      "                precision    recall  f1-score   support\n",
      "\n",
      "Current Events       0.87      0.23      0.36       176\n",
      "     Fine Arts       0.95      0.93      0.94      2712\n",
      "     Geography       0.90      0.77      0.83       609\n",
      "       History       0.88      0.95      0.91      4359\n",
      "    Literature       0.90      0.95      0.93      4437\n",
      "     Mythology       0.93      0.93      0.93       951\n",
      "    Philosophy       0.82      0.82      0.82       717\n",
      "      Religion       0.90      0.81      0.85       752\n",
      "       Science       0.97      0.98      0.98      3734\n",
      "Social Science       0.85      0.80      0.82       850\n",
      "         Trash       0.90      0.52      0.66       661\n",
      "\n",
      "   avg / total       0.91      0.91      0.91     19958\n",
      "\n"
     ]
    }
   ],
   "source": [
    "print(metrics.classification_report(testclass, multinom_predicted))"
   ]
  },
  {
   "cell_type": "markdown",
   "metadata": {
    "hideOutput": true,
    "hidePrompt": true
   },
   "source": [
    "#### Support Vector Machines\n",
    "\n",
    "&nbsp;&nbsp;&nbsp;&nbsp;&nbsp;&nbsp; The next classifier that I tried out was support vector machines. Support vector machines are well-suited to text classification; in particular, the linear kernel is usually recommended because text is often linearly separable.<sup>[14]</sup> When searching for the best support vector machines classifier, I varied the level of C, the penalty parameter. (Normally I would have done a grid search like I did for multinomial naive Bayes, but in this case for whatever reason the grid search was *torturously* slow, so I ran the linear support vector classifiers separately.) The case of C=5 and C=50 may just seem like a case of misplaced decimal point when testing code, but they really did output the exact same mean accuracy! The most accurate classifier had C=5 (or C=50), just a little more penalized than the default value of C=1. \n",
    "\n",
    "|          C                  |             Mean                | \n",
    "|-----------------------------|---------------------------------|\n",
    "|            0.005            | 0.79076059725423387             |\n",
    "|            0.5              | 0.92424090590239505             | \n",
    "|            1                | 0.92524301032167555             | \n",
    "|            5                | 0.92604469385709987             | \n",
    "|            10               | 0.92594448341517188             | \n",
    "|            50               | 0.92604469385709987             |   \n"
   ]
  },
  {
   "cell_type": "code",
   "execution_count": 26,
   "metadata": {
    "hideCode": true,
    "hidePrompt": true
   },
   "outputs": [
    {
     "data": {
      "image/png": "[encoded data removed]",
      "text/plain": [
       "<matplotlib.figure.Figure at 0x127538b00>"
      ]
     },
     "metadata": {},
     "output_type": "display_data"
    }
   ],
   "source": [
    "c=[0.005,0.5,1,5,10,50]\n",
    "mean=[.79076059725423387,.92424090590239505,.92524301032167555,.92604469385709987,.92594448341517188,.92604469385709987]\n",
    "plt.plot(c,mean,'ro')\n",
    "plt.xlabel('C')\n",
    "plt.ylabel('Accuracy')\n",
    "plt.show()"
   ]
  },
  {
   "cell_type": "markdown",
   "metadata": {
    "hidePrompt": true
   },
   "source": [
    "&nbsp;&nbsp;&nbsp;&nbsp;&nbsp;&nbsp; I chose C=5 for the classification report below instead of C=50, because it was closer to the default value of C=1 and the improvements were only marginal. Overall, it actually looks remarkably similar to the statistics for the multinomial naive Bayes classifier. The science questions seem to be the easiest to classify, which is unsurprising because of the unique vocabulary in many technical fields. This classifier was also remarkably successful at classifying literature, in both precision and recall. Current events was once again a struggle across the board."
   ]
  },
  {
   "cell_type": "code",
   "execution_count": 27,
   "metadata": {
    "hideCode": true,
    "hidePrompt": true
   },
   "outputs": [
    {
     "name": "stdout",
     "output_type": "stream",
     "text": [
      "                precision    recall  f1-score   support\n",
      "\n",
      "Current Events       0.79      0.56      0.66       176\n",
      "     Fine Arts       0.95      0.95      0.95      2712\n",
      "     Geography       0.87      0.86      0.87       609\n",
      "       History       0.91      0.94      0.93      4359\n",
      "    Literature       0.95      0.95      0.95      4437\n",
      "     Mythology       0.93      0.95      0.94       951\n",
      "    Philosophy       0.81      0.85      0.83       717\n",
      "      Religion       0.87      0.86      0.86       752\n",
      "       Science       0.96      0.98      0.97      3734\n",
      "Social Science       0.84      0.80      0.82       850\n",
      "         Trash       0.88      0.65      0.75       661\n",
      "\n",
      "   avg / total       0.92      0.92      0.92     19958\n",
      "\n"
     ]
    }
   ],
   "source": [
    "from sklearn.svm import LinearSVC\n",
    "svm_clf = LinearSVC(C=5.0)\n",
    "svm_clf.fit(traintfidf,trainclass)\n",
    "svc_predicted = svm_clf.predict(testtfidf)\n",
    "\n",
    "print(metrics.classification_report(testclass, svc_predicted))\n"
   ]
  },
  {
   "cell_type": "markdown",
   "metadata": {
    "hidePrompt": true
   },
   "source": [
    "#### Multinomial Logistic Regression\n",
    "\n",
    "&nbsp;&nbsp;&nbsp;&nbsp;&nbsp;&nbsp; The final classifier that I looked at was multinomial logistic regression. There were a couple of choices to be made here: First, whether the logistic regression should be fit as \"one-versus-rest,\" or as a true multinomial. In the former option, each label is fit as a binary logistic regression problem. In the latter option, a logistic regression is fit across all possible labels.\n",
    "\n",
    "&nbsp;&nbsp;&nbsp;&nbsp;&nbsp;&nbsp; Because grid search was again taking a long time, I first tried the two solvers against each other, with the default penalty term C. The multinomial solver ended up having better accuracy, so I then looked at different values of C for the multinomial solver.\n",
    "\n",
    "|          Solver             |           Accuracy              | \n",
    "|-----------------------------|---------------------------------|\n",
    "|            One-Versus-Rest  |    0.90520092193606572          |\n",
    "|         Multinomial         | 0.91970802919708028             | \n",
    "\n",
    "|          C                  |           Mean                  | \n",
    "|-----------------------------|---------------------------------|\n",
    "|        0.001                |          0.42652                |\n",
    "|        0.01                 |    0.63537                      |\n",
    "|        0.1                  |    0.76714                      | \n",
    "|        1                    |    0.88847                      | \n",
    "|        10                   |     0.91149                     | \n",
    "|        100                  |             0.91572             |\n",
    "|        1000                 |             0.91710             |"
   ]
  },
  {
   "cell_type": "markdown",
   "metadata": {
    "hidePrompt": true
   },
   "source": [
    "&nbsp;&nbsp;&nbsp;&nbsp;&nbsp;&nbsp; It is clear that accuracy increases with increased penalty, in this case, but there are also diminishing marginal returns on accuracy."
   ]
  },
  {
   "cell_type": "code",
   "execution_count": 28,
   "metadata": {
    "hideCode": true,
    "hidePrompt": true
   },
   "outputs": [
    {
     "data": {
      "image/png": "[encoded data removed]",
      "text/plain": [
       "<matplotlib.figure.Figure at 0x1a33d50c88>"
      ]
     },
     "metadata": {},
     "output_type": "display_data"
    }
   ],
   "source": [
    "c=[0.001,0.01,0.1,1,10,100,1000]\n",
    "mean=[0.42652,0.63537,0.76714, 0.88847,0.91149,0.91572,0.91710]\n",
    "plt.plot(np.log10(c),mean,'ro')\n",
    "plt.xlabel('Log base 10 of C')\n",
    "plt.ylabel('Accuracy')\n",
    "plt.show()"
   ]
  },
  {
   "cell_type": "code",
   "execution_count": 30,
   "metadata": {
    "hideCode": true,
    "hideOutput": true,
    "hidePrompt": true
   },
   "outputs": [
    {
     "data": {
      "text/plain": [
       "0.9068543942278785"
      ]
     },
     "execution_count": 30,
     "metadata": {},
     "output_type": "execute_result"
    }
   ],
   "source": [
    "from sklearn.linear_model import LogisticRegression\n",
    "cg_logreg = LogisticRegression(multi_class='multinomial',\n",
    "                            solver='newton-cg')\n",
    "cg_logreg.fit(traintfidf,trainclass)\n",
    "cg_predicted = cg_logreg.predict(testtfidf) \n",
    "np.mean(cg_predicted ==  testclass) \n"
   ]
  },
  {
   "cell_type": "markdown",
   "metadata": {
    "hidePrompt": true
   },
   "source": [
    "## V. Experimental Results"
   ]
  },
  {
   "cell_type": "markdown",
   "metadata": {
    "hidePrompt": true
   },
   "source": [
    "&nbsp;&nbsp;&nbsp;&nbsp;&nbsp;&nbsp; I attempted three different methods to classify the categories of the questions: multinomial naive Bayes, support vector machines, and multinomial logistic regression. In general, all of the classifiers performed very well; at their best (that is, with the right parameter optimization), they all performed just above Raynor Kuang's casual estimate of 90% accuracy<sup>[9]</sup>. However, the linear support vector machines with a slightly larger than default penalty parameter performed the best, with precision and recall across all categories averaging around 93%.\n",
    "\n",
    "&nbsp;&nbsp;&nbsp;&nbsp;&nbsp;&nbsp; Below is the confusion matrix for the support vector machine with C=5. It looks like the most common confusion was between history and social studies and history and trash."
   ]
  },
  {
   "cell_type": "code",
   "execution_count": 31,
   "metadata": {
    "hidePrompt": true
   },
   "outputs": [
    {
     "name": "stdout",
     "output_type": "stream",
     "text": [
      "        CE      FA   Ge   Hi    Li    My    Ph    Re    Sc    SS    Tr   \n"
     ]
    },
    {
     "data": {
      "text/plain": [
       "array([[  99,    1,    5,   64,    3,    0,    0,    1,    2,    0,    1],\n",
       "       [   0, 2579,    9,   21,   44,    4,    6,    9,   10,    9,   21],\n",
       "       [   1,   12,  526,   51,    4,    1,    0,    0,    7,    5,    2],\n",
       "       [  16,   33,   52, 4115,   33,   11,    6,   33,   23,   27,   10],\n",
       "       [   0,   45,    1,   48, 4194,   24,   54,   17,   15,   22,   17],\n",
       "       [   0,    1,    0,    9,   24,  899,    2,   13,    2,    0,    1],\n",
       "       [   0,    4,    0,   10,   37,    0,  606,    9,   12,   39,    0],\n",
       "       [   1,    5,    2,   40,   11,   23,   14,  646,    7,    2,    1],\n",
       "       [   0,    2,    5,   28,    1,    1,   11,    1, 3664,   20,    1],\n",
       "       [   2,    5,    2,   52,   19,    0,   48,    8,   29,  683,    2],\n",
       "       [   6,   34,    3,   76,   57,    6,    1,    8,   30,   10,  430]])"
      ]
     },
     "execution_count": 31,
     "metadata": {},
     "output_type": "execute_result"
    }
   ],
   "source": [
    "from sklearn.metrics import confusion_matrix\n",
    "print(\"        CE     \",\"FA  \",\"Ge  \",\"Hi   \",\"Li   \",\"My   \",\"Ph   \",\"Re   \",\n",
    "      \"Sc   \",\"SS   \",\"Tr   \")\n",
    "confusion_matrix(testclass, svc_predicted)"
   ]
  },
  {
   "cell_type": "markdown",
   "metadata": {
    "hidePrompt": true
   },
   "source": [
    "## VI. Conclusion\n",
    "\n",
    "&nbsp;&nbsp;&nbsp;&nbsp;&nbsp;&nbsp; Overall the support vector machine with penalty parameter C=5 was the most successful classifier, but each classifier was fairly successful on the data set. \n",
    "\n",
    "&nbsp;&nbsp;&nbsp;&nbsp;&nbsp;&nbsp; There were many limitations of this case study, and many opportunities for future work on this problem. The problem of subcategories was not touched in this case study because categories enough provided enough material for discussion; however, that is the most obvious place where more work could be done. I would be interested to see how a stacking ensemble approach would work (where one first classifies by category and then does a second pass for subcategory), as opposed to trying to classify subcategories immediately. One could also manually classify a certain number of training examples in the many categories whose subcategories have barely been classified, and train classifiers to identify other questions.\n",
    "\n",
    "&nbsp;&nbsp;&nbsp;&nbsp;&nbsp;&nbsp; It is clear that quizbowl questions provide a robust and interesting data set for supervised classification of large amounts of text."
   ]
  },
  {
   "cell_type": "markdown",
   "metadata": {
    "hidePrompt": true
   },
   "source": [
    "## Appendices\n",
    "\n",
    "### Citations\n",
    "<sup>[1]</sup> Packet Submission Guidelines. (n.d.). *Academic Competition Federation.* Retrieved November 26, 2017, from https://acf-quizbowl.com/tournaments/packet-submission-guidelines/#distribution\n",
    "\n",
    "<sup>[2]</sup> Jackson, M. (2013, September 22). What Is Quizbowl? A Primer and FAQ for Newcomers. *Partnership for Academic Competition Excellence.* Retrieved November 25, 2017, from http://www.pace-nsc.org/what-is-quizbowl-a-primer-and-faq-for-newcomers/\n",
    "\n",
    "<sup>[3]</sup> Question Recycling. (n.d.). In *QBWiki*. Retrieved November 26, 2017, from https://www.qbwiki.com/wiki/Question_recycling\n",
    "\n",
    "<sup>[4]</sup> Schindler, M. (2013, February 2). So You Want to Study Quizbowl [Msg 1]. Message posted to http://www.hsquizbowl.org/forums/viewtopic.php?f=30&t=14099\n",
    "\n",
    "<sup>[5]</sup> Quizbowl software. (n.d.). In *QBWiki*. Retrieved November 26, 2017, from https://www.qbwiki.com/wiki/Quizbowl_software#Question_databases\n",
    "\n",
    "<sup>[6]</sup>  Kuang, R. (2017, September 10). Announcing QuizDB: \"Knowledge is Power\" [Msg 1]. Message posted to http://www.hsquizbowl.org/forums/viewtopic.php?f=123&t=20407\n",
    "\n",
    "<sup>[7]</sup> Zhang, M. (2017, July 21). PACE Membership Status Changes 2017-18 [Msg 1]. Message posted to http://www.hsquizbowl.org/forums/viewtopic.php?f=6&t=20185&p=333787\n",
    "\n",
    "<sup>[8]</sup> Kuang, R. (2017, November 08). Re: Announcing QuizDB: \"Knowledge is Power\" [Msg 42]. Message posted to http://www.hsquizbowl.org/forums/viewtopic.php?f=123&t=20407\n",
    "\n",
    "<sup>[9]</sup> Kuang, R. (2017, October 16). Re: Undelivered Mail Returned to Sender [E-mail to the author].\n",
    "\n",
    "<sup>[10]</sup> Clarke, V. (2017, January 19). 2017 Eisenhower Memorial Tournament - Global Announcement [Msg 1]. Message posted to http://hsquizbowl.org/forums/viewtopic.php?f=8&t=19515\n",
    "\n",
    "<sup>[11]</sup> Kandlikar, G. (2014, June 23). ACF Fall 2014 Global Announcement (11/8/14) [Msgs 1-3]. Messages posted to http://hsquizbowl.org/forums/viewtopic.php?f=21&t=16023&p=291678\n",
    "\n",
    "<sup>[12]</sup> Trash. (n.d.). In *QBWiki*. Retrieved November 27, 2017, from https://www.qbwiki.com/wiki/Trash\n",
    "\n",
    "<sup>[13]</sup> Lawrence, J. (2017, September 12). Re: The Spring Open: What Is to be Done? [Msg 5]. Message posted to http://hsquizbowl.org/forums/viewtopic.php?f=97&t=20420&p=335281#p335281\n",
    "\n",
    "<sup>[14]</sup> Kowalczyk, A. (2014, October 19). Linear Kernel: Why is it recommended for text classification? Retrieved November 27, 2017, from https://www.svm-tutorial.com/2014/10/svm-linear-kernel-good-text-classification/\n",
    "\n",
    "### Code\n",
    "#### Data Description\n",
    "    import os\n",
    "    os.chdir('/Users/alexdamisch/Desktop')\n",
    "    import json\n",
    "    with open('quizdb_classifier_training_data.json', encoding='utf-8') as data_file:\n",
    "    data = json.loads(data_file.read())\n",
    "    data['texts'][1491]\n",
    "    data['texts'][84391]\n",
    "#### Data Cleaning and Analysis\n",
    "\n",
    "    # Counting 'answer' string to determine if it was a tossup or bonus:\n",
    "    data['type']=[]\n",
    "    for item in data['texts']:\n",
    "        if item.lower().count('answer')==3:\n",
    "            data['type'].append('Bonus')\n",
    "        elif item.lower().count('answer')==1:\n",
    "            data['type'].append('Tossup')\n",
    "        else:\n",
    "            data['type'].append('Other')\n",
    "    # How many questions were categorized 'Other'?\n",
    "    from collections import Counter\n",
    "    c=Counter(data['categories'])\n",
    "    print(c.items()) # dict_items([('Tossup', 81152), ('Other', 194), ('Bonus', 18660)])\n",
    "    \n",
    "    # Delete questions categorized 'Other'\n",
    "    others = [i for i, s in enumerate(data['type']) if 'Other' in s] # List of indices\n",
    "\n",
    "    for index in sorted(others, reverse=True):\n",
    "        del data['texts'][index]\n",
    "        del data['categories'][index]\n",
    "        del data['subcategories'][index]\n",
    "        del data['type'][index]\n",
    "\n",
    "    # Delete questions categorized 'None':\n",
    "    \n",
    "    nones = [i for i, s in enumerate(data['categories']) if 'None' in s]\n",
    "\n",
    "    for index in sorted(nones, reverse=True):\n",
    "        del data['texts'][index]\n",
    "        del data['categories'][index]\n",
    "        del data['subcategories'][index]\n",
    "        del data['type'][index]\n",
    "\n",
    "    # Double check that the 'None' questions were deleted correctly:\n",
    "    c=Counter(data['categories'])\n",
    "    print(c.items()) #dict_items([('Science', 18957), ('Geography', 3140), ('Fine Arts', 13285), ('Literature', 22388), ('History', 21653), ('Social Science', 4192), ('Religion', 3632), ('Mythology', 4932), ('Current Events', 919), ('Philosophy', 3648), ('Trash', 3184)])\n",
    "    \n",
    "    # Type of question plot\n",
    "    import matplotlib.pyplot as plt\n",
    "    import numpy as np\n",
    "    c=Counter(data['type'])\n",
    "    labels, values = zip(*c.items())\n",
    "    indexes = np.arange(len(labels))\n",
    "    width = 1\n",
    "    plt.bar(indexes, values, align='center', alpha=0.5)\n",
    "    plt.xticks(indexes, labels)\n",
    "    plt.xticks(rotation=70)\n",
    "    plt.ylabel('Count')\n",
    "    plt.title('Type of Question')\n",
    "    plt.show()\n",
    "    \n",
    "    # Categories plot\n",
    "    c=Counter(data['categories'])\n",
    "    labels, values = zip(*c.items())\n",
    "    indexes = np.arange(len(labels))\n",
    "    width = 1\n",
    "\n",
    "    plt.bar(indexes, values, align='center', alpha=0.5)\n",
    "    plt.xticks(indexes, labels)\n",
    "    plt.xticks(rotation=70)\n",
    "    plt.ylabel('Count')\n",
    "    plt.title('Categories of Questions')\n",
    " \n",
    "    plt.show()\n",
    "    \n",
    "    # Subcategories plots\n",
    "    # I'll show one example here, because the rest only involve changing a few letters around\n",
    "    import pandas as pd\n",
    "\n",
    "    mydf = pd.DataFrame({'Text': data['texts'],'Category': data['categories'], 'Subcategory': data['subcategories']})\n",
    "\n",
    "    science = mydf[mydf['Category'] == 'Science'] # Replace 'Science\" in other iterations and rename\n",
    "    science_count = science.groupby('Subcategory').size()\n",
    "    science_count = science_count.rename(lambda x: x.replace(\"Science\",\"\")) # Replace 'Science\" in other iterations\n",
    "\n",
    "    science_count.plot.bar(rot=30).set_title('Science Subcategories') # Rename in other iterations\n",
    " \n",
    "#### Experimental Results\n",
    "#### Experimental Analysis\n",
    "\n",
    "    from sklearn.model_selection import train_test_split\n",
    "\n",
    "    train, test, trainclass, testclass = train_test_split(data[\"texts\"],\n",
    "                    data[\"categories\"], train_size=0.8)\n",
    "    \n",
    "    from sklearn.feature_extraction.text import CountVectorizer\n",
    "\n",
    "    # count vectorizer\n",
    "    bigram_vectorizer = CountVectorizer(ngram_range=(1, 2),\n",
    "    min_df=1,max_df=0.5)\n",
    "\n",
    "    traincounts = bigram_vectorizer.fit_transform(train)\n",
    "\n",
    "    from sklearn.feature_extraction.text import TfidfTransformer\n",
    "\n",
    "    # training tfidf\n",
    "    tfidf_transformer = TfidfTransformer()\n",
    "    traintfidf = tfidf_transformer.fit_transform(traincounts)\n",
    "\n",
    "    # testing tfidf\n",
    "    testcounts = bigram_vectorizer.transform(test)\n",
    "    tfidf_transformer = TfidfTransformer()\n",
    "    testtfidf= tfidf_transformer.fit_transform(testcounts)\n",
    "    \n",
    "    ####### multinomial naive bayes #######\n",
    "\n",
    "    #make classifier\n",
    "    from sklearn.naive_bayes import MultinomialNB\n",
    "\n",
    "    # fit classifier to training data\n",
    "    from sklearn.model_selection import GridSearchCV\n",
    "    multinom_parameters = {'alpha': [1.0e-10, 1.0e-9, 1.0e-8, 1.0e-7, 1.0e-6, \n",
    "                        1.0e-5, 1.0e-4, 1.0e-3, 1.0e-2,0.1]}\n",
    "    multinom=MultinomialNB()\n",
    "    multinom_clf=GridSearchCV(multinom, multinom_parameters)\n",
    "    multinom_clf.fit(traintfidf,trainclass)\n",
    "\n",
    "    #fit to test data\n",
    "    multinom_predicted = multinom_clf.predict(testtfidf)\n",
    "\n",
    "    import numpy as np\n",
    "    np.mean(multinom_predicted ==  testclass) \n",
    "\n",
    "    multinom_clf.grid_scores_\n",
    "    #multinom_clf.best_estimator_\n",
    "\n",
    "    from sklearn import metrics\n",
    "    print(metrics.classification_report(testclass, multinom_predicted))\n",
    "    \n",
    "    from matplotlib import pyplot as plt\n",
    "    alpha=[1e-10,1e-09,1e-08,1e-07,1e-06,1e-05,1e-04,1e-03,1e-02,1e-01]\n",
    "    mean=[0.89851,0.90148,0.90495,0.90897,0.91345,0.91699,0.91606,0.90591,0.91650,0.83411]\n",
    "    plt.plot(np.log10(alpha),mean,'ro')\n",
    "    plt.xlabel('Log base 10 of alpha')\n",
    "    plt.ylabel('Accuracy')\n",
    "    plt.show()\n",
    "\n",
    "\n",
    "    ####### Linear Support Vector Machines #######\n",
    "    \n",
    "    from sklearn.svm import LinearSVC\n",
    "    clf = LinearSVC(C=50.0) #Replace for different values of C\n",
    "    clf.fit(traintfidf,trainclass)\n",
    "    svc_predicted = clf.predict(testtfidf)\n",
    "    np.mean(predicted ==  testclass)\n",
    "    \n",
    "    c=[0.005,0.5,1,5,10,15]\n",
    "    mean=[.79076059725423387,.92424090590239505, .92524301032167555, .92604469385709987, .92594448341517188, .92604469385709987]\n",
    "    plt.plot(c,mean,'ro')\n",
    "    plt.xlabel('C')\n",
    "    plt.ylabel('Accuracy')\n",
    "    plt.show()\n",
    "    \n",
    "    ########## Multinomial Logistic Regression ##########\n",
    "\n",
    "    from sklearn.linear_model import LogisticRegression\n",
    "    from sklearn.model_selection import GridSearchCV\n",
    "     \n",
    "    # One-versus-rest classifier\n",
    "    \n",
    "    ovr_logreg = LogisticRegression(multi_class='ovr')\n",
    "    ovr_logreg.fit(traintfidf,trainclass) #took only a few min\n",
    "    ovr_predicted = ovr_logreg.predict(testtfidf)\n",
    "    np.mean(ovr_predicted ==  testclass)  \n",
    "    \n",
    "    # Multinomial classifier\n",
    "    \n",
    "    cg_logreg = LogisticRegression(multi_class='multinomial',\n",
    "                            solver='newton-cg')\n",
    "    cg_logreg.fit(traintfidf,trainclass)\n",
    "    cg_predicted = cg_logreg.predict(testtfidf) \n",
    "    np.mean(cg_predicted ==  testclass) \n"
   ]
  }
 ],
 "metadata": {
  "celltoolbar": "Hide code",
  "kernelspec": {
   "display_name": "Python 3",
   "language": "python",
   "name": "python3"
  },
  "language_info": {
   "codemirror_mode": {
    "name": "ipython",
    "version": 3
   },
   "file_extension": ".py",
   "mimetype": "text/x-python",
   "name": "python",
   "nbconvert_exporter": "python",
   "pygments_lexer": "ipython3",
   "version": "3.6.3"
  }
 },
 "nbformat": 4,
 "nbformat_minor": 2
}
